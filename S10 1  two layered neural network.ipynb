{
 "cells": [
  {
   "cell_type": "code",
   "execution_count": 1,
   "metadata": {},
   "outputs": [],
   "source": [
    "import numpy as np"
   ]
  },
  {
   "cell_type": "code",
   "execution_count": 8,
   "metadata": {},
   "outputs": [],
   "source": [
    "\n",
    "# Define activation functions\n",
    "def relu(x):\n",
    "    return np.maximum(0, x)\n",
    "\n",
    "def relu_derivative(x):\n",
    "    return np.where(x > 0, 1, 0)\n",
    "\n",
    "def sigmoid(x):\n",
    "    return 1 / (1 + np.exp(-x))\n",
    "\n",
    "def sigmoid_derivative(x):\n",
    "    return sigmoid(x) * (1 - sigmoid(x))\n",
    "\n",
    "# Define the neural network class\n",
    "class TwoLayerNN:\n",
    "    def __init__(self, input_size, hidden_size, output_size, learning_rate=0.01):\n",
    "        # Initialize weights and biases\n",
    "        self.weights_input_hidden = np.random.randn(input_size, hidden_size)\n",
    "        self.bias_hidden = np.zeros((1, hidden_size))\n",
    "        self.weights_hidden_output = np.random.randn(hidden_size, output_size)\n",
    "        self.bias_output = np.zeros((1, output_size))\n",
    "        self.learning_rate = learning_rate\n",
    "\n",
    "    def forward(self, X):\n",
    "        # Input to hidden layer\n",
    "        self.hidden_input = np.dot(X, self.weights_input_hidden) + self.bias_hidden\n",
    "        self.hidden_output = relu(self.hidden_input)\n",
    "\n",
    "        # Hidden to output layer\n",
    "        self.final_input = np.dot(self.hidden_output, self.weights_hidden_output) + self.bias_output\n",
    "        self.final_output = sigmoid(self.final_input)\n",
    "\n",
    "        return self.final_output\n",
    "\n",
    "    def backward(self, X, y, output):\n",
    "        # Output layer error and gradient\n",
    "        output_error = output - y\n",
    "        output_gradient = output_error * sigmoid_derivative(self.final_input)\n",
    "\n",
    "        # Hidden layer error and gradient\n",
    "        hidden_error = np.dot(output_gradient, self.weights_hidden_output.T)\n",
    "        hidden_gradient = hidden_error * relu_derivative(self.hidden_input)\n",
    "\n",
    "        # Update weights and biases\n",
    "        self.weights_hidden_output -= self.learning_rate * np.dot(self.hidden_output.T, output_gradient)\n",
    "        self.bias_output -= self.learning_rate * np.sum(output_gradient, axis=0, keepdims=True)\n",
    "        self.weights_input_hidden -= self.learning_rate * np.dot(X.T, hidden_gradient)\n",
    "        self.bias_hidden -= self.learning_rate * np.sum(hidden_gradient, axis=0, keepdims=True)\n",
    "\n",
    "    def train(self, X, y, epochs=1000):\n",
    "        for epoch in range(epochs):\n",
    "            output = self.forward(X)\n",
    "            self.backward(X, y, output)\n",
    "\n"
   ]
  },
  {
   "cell_type": "code",
   "execution_count": 10,
   "metadata": {},
   "outputs": [
    {
     "name": "stdout",
     "output_type": "stream",
     "text": [
      "Input: [0 0], Predicted Output: [[0.02858038]]\n",
      "Input: [0 1], Predicted Output: [[0.98772183]]\n",
      "Input: [1 0], Predicted Output: [[0.98642692]]\n",
      "Input: [1 1], Predicted Output: [[0.01089765]]\n"
     ]
    }
   ],
   "source": [
    "\n",
    "if __name__ == \"__main__\":\n",
    "    # Sample dataset (X: inputs, y: labels)\n",
    "    X = np.array([[0, 0], [0, 1], [1, 0], [1, 1]])\n",
    "    y = np.array([[0], [1], [1], [0]])  # XOR problem\n",
    "\n",
    "    # Define neural network\n",
    "    nn = TwoLayerNN(input_size=2, hidden_size=4, output_size=1, learning_rate=0.1)\n",
    "\n",
    "    # Train the network\n",
    "    nn.train(X, y, epochs=10000)\n",
    "\n",
    "    # Test the network\n",
    "    for i in range(len(X)):\n",
    "        print(f\"Input: {X[i]}, Predicted Output: {nn.forward(X[i].reshape(1, -1))}\")\n"
   ]
  },
  {
   "cell_type": "code",
   "execution_count": null,
   "metadata": {},
   "outputs": [],
   "source": []
  }
 ],
 "metadata": {
  "kernelspec": {
   "display_name": "base",
   "language": "python",
   "name": "python3"
  },
  "language_info": {
   "codemirror_mode": {
    "name": "ipython",
    "version": 3
   },
   "file_extension": ".py",
   "mimetype": "text/x-python",
   "name": "python",
   "nbconvert_exporter": "python",
   "pygments_lexer": "ipython3",
   "version": "3.12.4"
  }
 },
 "nbformat": 4,
 "nbformat_minor": 2
}
