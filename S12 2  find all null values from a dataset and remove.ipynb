{
 "cells": [
  {
   "cell_type": "code",
   "execution_count": 1,
   "metadata": {},
   "outputs": [],
   "source": [
    "import pandas as pd\n"
   ]
  },
  {
   "cell_type": "code",
   "execution_count": 7,
   "metadata": {},
   "outputs": [],
   "source": [
    "data = pd.read_excel(r'D:\\Machine Learning Practical\\Netflix TV Shows and Movies.xlsx')"
   ]
  },
  {
   "cell_type": "code",
   "execution_count": 8,
   "metadata": {},
   "outputs": [
    {
     "name": "stdout",
     "output_type": "stream",
     "text": [
      "Original Dataset:\n",
      "   index        id                            title   type  \\\n",
      "0      0   tm84618                      Taxi Driver  MOVIE   \n",
      "1      1  tm127384  Monty Python and the Holy Grail  MOVIE   \n",
      "2      2   tm70993                    Life of Brian  MOVIE   \n",
      "3      3  tm190788                     The Exorcist  MOVIE   \n",
      "4      4   ts22164     Monty Python's Flying Circus   SHOW   \n",
      "\n",
      "                                         description  release_year  \\\n",
      "0  A mentally unstable Vietnam War veteran works ...          1976   \n",
      "1  King Arthur, accompanied by his squire, recrui...          1975   \n",
      "2  Brian Cohen is an average young Jewish man, bu...          1979   \n",
      "3  12-year-old Regan MacNeil begins to adapt an e...          1973   \n",
      "4  A British sketch comedy series with the shows ...          1969   \n",
      "\n",
      "  age_certification  runtime    imdb_id  imdb_score  imdb_votes  Score*Votes  \n",
      "0                 R      113  tt0075314         8.3    795222.0    6600342.6  \n",
      "1                PG       91  tt0071853         8.2    530877.0    4353191.4  \n",
      "2                 R       94  tt0079470         8.0    392419.0    3139352.0  \n",
      "3                 R      133  tt0070047         8.1    391942.0    3174730.2  \n",
      "4             TV-14       30  tt0063929         8.8     72895.0     641476.0  \n"
     ]
    }
   ],
   "source": [
    "print(\"Original Dataset:\")\n",
    "print(data.head())"
   ]
  },
  {
   "cell_type": "code",
   "execution_count": 9,
   "metadata": {},
   "outputs": [],
   "source": [
    "# Find all null values\n",
    "null_values = data.isnull().sum()"
   ]
  },
  {
   "cell_type": "code",
   "execution_count": 10,
   "metadata": {},
   "outputs": [
    {
     "name": "stdout",
     "output_type": "stream",
     "text": [
      "\n",
      "Null values in each column:\n",
      "index                   0\n",
      "id                      0\n",
      "title                   0\n",
      "type                    0\n",
      "description             5\n",
      "release_year            0\n",
      "age_certification    2285\n",
      "runtime                 0\n",
      "imdb_id                 0\n",
      "imdb_score              0\n",
      "imdb_votes             16\n",
      "Score*Votes             0\n",
      "dtype: int64\n"
     ]
    }
   ],
   "source": [
    "print(\"\\nNull values in each column:\")\n",
    "print(null_values)"
   ]
  },
  {
   "cell_type": "code",
   "execution_count": 11,
   "metadata": {},
   "outputs": [],
   "source": [
    "data_cleaned = data.dropna()"
   ]
  },
  {
   "cell_type": "code",
   "execution_count": 12,
   "metadata": {},
   "outputs": [
    {
     "name": "stdout",
     "output_type": "stream",
     "text": [
      "\n",
      "Cleaned Dataset (after removing null values):\n",
      "   index        id                            title   type  \\\n",
      "0      0   tm84618                      Taxi Driver  MOVIE   \n",
      "1      1  tm127384  Monty Python and the Holy Grail  MOVIE   \n",
      "2      2   tm70993                    Life of Brian  MOVIE   \n",
      "3      3  tm190788                     The Exorcist  MOVIE   \n",
      "4      4   ts22164     Monty Python's Flying Circus   SHOW   \n",
      "\n",
      "                                         description  release_year  \\\n",
      "0  A mentally unstable Vietnam War veteran works ...          1976   \n",
      "1  King Arthur, accompanied by his squire, recrui...          1975   \n",
      "2  Brian Cohen is an average young Jewish man, bu...          1979   \n",
      "3  12-year-old Regan MacNeil begins to adapt an e...          1973   \n",
      "4  A British sketch comedy series with the shows ...          1969   \n",
      "\n",
      "  age_certification  runtime    imdb_id  imdb_score  imdb_votes  Score*Votes  \n",
      "0                 R      113  tt0075314         8.3    795222.0    6600342.6  \n",
      "1                PG       91  tt0071853         8.2    530877.0    4353191.4  \n",
      "2                 R       94  tt0079470         8.0    392419.0    3139352.0  \n",
      "3                 R      133  tt0070047         8.1    391942.0    3174730.2  \n",
      "4             TV-14       30  tt0063929         8.8     72895.0     641476.0  \n"
     ]
    }
   ],
   "source": [
    "print(\"\\nCleaned Dataset (after removing null values):\")\n",
    "print(data_cleaned.head())"
   ]
  },
  {
   "cell_type": "code",
   "execution_count": 13,
   "metadata": {},
   "outputs": [
    {
     "data": {
      "text/plain": [
       "index                0\n",
       "id                   0\n",
       "title                0\n",
       "type                 0\n",
       "description          0\n",
       "release_year         0\n",
       "age_certification    0\n",
       "runtime              0\n",
       "imdb_id              0\n",
       "imdb_score           0\n",
       "imdb_votes           0\n",
       "Score*Votes          0\n",
       "dtype: int64"
      ]
     },
     "execution_count": 13,
     "metadata": {},
     "output_type": "execute_result"
    }
   ],
   "source": [
    "data_cleaned.isnull().sum()"
   ]
  },
  {
   "cell_type": "code",
   "execution_count": null,
   "metadata": {},
   "outputs": [],
   "source": [
    "data_cleaned.to_csv('cleaned_dataset.csv', index=False)"
   ]
  }
 ],
 "metadata": {
  "kernelspec": {
   "display_name": "base",
   "language": "python",
   "name": "python3"
  },
  "language_info": {
   "codemirror_mode": {
    "name": "ipython",
    "version": 3
   },
   "file_extension": ".py",
   "mimetype": "text/x-python",
   "name": "python",
   "nbconvert_exporter": "python",
   "pygments_lexer": "ipython3",
   "version": "3.12.4"
  }
 },
 "nbformat": 4,
 "nbformat_minor": 2
}
